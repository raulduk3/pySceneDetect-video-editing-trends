{
 "cells": [
  {
   "cell_type": "code",
   "execution_count": 6,
   "metadata": {},
   "outputs": [],
   "source": [
    "import os\n",
    "import pandas as pd\n",
    "\n",
    "# Load the CSV file into a Pandas data frame\n",
    "df = pd.read_csv('../data/video_metadata.csv')\n",
    "\n",
    "# Define a list of IDs to drop\n",
    "ids_to_drop = ['D_Rx4qZ8QRc', 'oo-c1xw_oJE', 'QR2mij3RcXQ', 'i-3qIn8Xu1Y', 'dWRreixLzYk', 'hs5ikCOqCG0', '5L4DQfVIcdg', 'YDXOioU_OKM', 'GgfvmHeOiqQ', 'Fl9VztW0A8E', 'x--yddOolRQ', 'mVLrBJYGxk4', 'Wlf1T5nrO50', 'xBasQG_6p40', 'iB1c68B1iLg', 'do7psVA1K3g', 'E95uSzDyxnc', 'SlRvgJpssEM', 'foT9rsHmS24', '4NuK7wSQUNs', 'RgKAFK5djSk', '4yG_k2Zlw7Y', 'LsIDfMy_z-M', 'Bd16SpwocRw', 'dXTBbM21plg', 'ZKh6z0X6KRw', 'nSseNoxgQnY', 'ZDErpUgHHi8', 'e-ORhEE9VVg', 'CFcs6QRPQKk', 'j6PbonHsqW0', '4Eea5kTDExs', '814EnoSLb8c', '3lFDsYVDvE8', '0viKv1RDhak', '1wb1N_EitdI', 'Oqt-EVXF408', 'HPOcLm0fMws', '4RC-z0NuoeU', 'FuaDWyCnJxs', 'ZCcX2Egirp4', 'WSZEcpti2i0', 'soAg0RLm1jM', 'ohDB5gbtaEQ', 'aA1AjH7meTA', 'nc5Lj90BzSQ', 'zNTxSBgDNp4', 'WEDndTCyGgU', 'KnCAmgljZSI', '8je1sVq7qLQ', 'KbhJaisfF0g', 'vqoGdxtXjGM', 'aWFHsMl3q7c', 'rYEDA3JcQqw', 'c80xi709iXE', '6hF3RzW0LZM', 'z_ZuQnCDaxM', '_qL9efuX1lI', 'tzptuI8LpZQ', '8FqlTslU22s', 'PAyl2XiWZyo', '3B1laqHpw7A', 'aViECTg0YPc', 'DlFkfOqtgR8', 'jQr4EVq_ruc', 'Ef6LwAaB3_E', 'hLQl3WQQoQ0', 'Hq6ndRqnaEs', 'NOKJDCqvvMk', 'v9oxyswY8fs', 'URSCcEgFMJE', 'pB-5XG-DbAA', 'f5CcgFTO274', 'N3y8-GdcuqA', 'ihX1pRMmxp8', 'plQknR6Cxzo', 'Ua5VVle8Mho', 'Ro51SuLyh8A', 'OeWqHIFdPow', 'lyoaLway15g', '20TY0osAy3Q', '5EE8m8mmq1k', 'S16xRG3HcLM', 'fLLScgWQcHc', '8mJ_2030k_U', '3cc9f1aJB0k', 'SkUKT7DR8J0', 'pkmqemKs1fw', '1GMgT3fi_S8', '-n9fo7jUMa0', 'CRxhqP-ppa8', '36K33bVetn8', '9BUrNe3Vhtk', 'xLl3PQ2O_wg', 'CjVVNuraly8', 'ZlvfYmfefSI', 'S9atRW1DgbQ', '1NgRiVb38p0', 'upMDqrOqRFc', 'V6ui161NyTg', '8UVNT4wvIGY', 'zUbw_RN2W6w', '6-ax9Ddane0', 'jVhlJNJopOQ', 'Wln5dlYKA1k', '1eQst8SAVRE', 'W-M8LlQ6O7Q', 'JvhItznAkwU']\n",
    "\n",
    "# Delete the corresponding file for each dropped ID if it exists\n",
    "for id_to_drop in ids_to_drop:\n",
    "    filepath = f'/Volumes/ASHCHILD\\ I/IPHS400_DATA/{id_to_drop}.mp4'\n",
    "    if os.path.isfile(filepath):\n",
    "        os.remove(filepath)\n",
    "\n",
    "# Save the resulting data frame to a new CSV file\n",
    "df.to_csv('../data/video_metadata.csv', index=False)\n"
   ]
  }
 ],
 "metadata": {
  "kernelspec": {
   "display_name": "Python 3",
   "language": "python",
   "name": "python3"
  },
  "language_info": {
   "codemirror_mode": {
    "name": "ipython",
    "version": 3
   },
   "file_extension": ".py",
   "mimetype": "text/x-python",
   "name": "python",
   "nbconvert_exporter": "python",
   "pygments_lexer": "ipython3",
   "version": "3.10.10"
  },
  "orig_nbformat": 4
 },
 "nbformat": 4,
 "nbformat_minor": 2
}
